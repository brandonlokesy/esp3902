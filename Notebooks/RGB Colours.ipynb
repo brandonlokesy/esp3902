{
 "cells": [
  {
   "cell_type": "code",
   "execution_count": 2,
   "id": "b535ae11",
   "metadata": {},
   "outputs": [],
   "source": [
    "import matplotlib.pyplot as plt\n",
    "import numpy as np\n",
    "import pandas as pd\n",
    "import cv2\n",
    "import imutils\n",
    "from PIL import ImageColor\n",
    "from scipy.spatial.distance import euclidean\n",
    "# from scipy.spatial.distance import cosine_similarity\n",
    "from sklearn.metrics.pairwise import euclidean_distances\n",
    "# from collections import OrderedDict \n",
    "from sklearn.neighbors import KNeighborsClassifier\n",
    "from sklearn.preprocessing import StandardScaler"
   ]
  },
  {
   "cell_type": "code",
   "execution_count": 51,
   "id": "bc59f0d9",
   "metadata": {},
   "outputs": [],
   "source": [
    "##Lego colours\n",
    "##https://brickipedia.fandom.com/wiki/Colour_Palette\n",
    "\n",
    "legoColoursHEX = {\"brightRed\" : '#DE000D',\n",
    "                  \"brightBlue\" : '#0057A8',\n",
    "                  \"darkGreen\" : '#007B28',\n",
    "                 \"mediumBlue\" : \"#478CC6\"}\n",
    "legoColoursRGB = dict((k, ImageColor.getcolor(v, \"RGB\"))for k,v in legoColoursHEX.items())\n",
    "legoColoursBGR = dict((k, ImageColor.getcolor(v, \"RGB\")[::-1])for k,v in legoColoursHEX.items())\n",
    "\n",
    "df = pd.DataFrame([[k,v] for k,v in legoColoursBGR.items()], columns = ['colour','BGR'])"
   ]
  },
  {
   "cell_type": "code",
   "execution_count": 52,
   "id": "5e477c52",
   "metadata": {},
   "outputs": [
    {
     "data": {
      "text/html": [
       "<div>\n",
       "<style scoped>\n",
       "    .dataframe tbody tr th:only-of-type {\n",
       "        vertical-align: middle;\n",
       "    }\n",
       "\n",
       "    .dataframe tbody tr th {\n",
       "        vertical-align: top;\n",
       "    }\n",
       "\n",
       "    .dataframe thead th {\n",
       "        text-align: right;\n",
       "    }\n",
       "</style>\n",
       "<table border=\"1\" class=\"dataframe\">\n",
       "  <thead>\n",
       "    <tr style=\"text-align: right;\">\n",
       "      <th></th>\n",
       "      <th>colour</th>\n",
       "      <th>BGR</th>\n",
       "    </tr>\n",
       "  </thead>\n",
       "  <tbody>\n",
       "    <tr>\n",
       "      <th>0</th>\n",
       "      <td>brightRed</td>\n",
       "      <td>(13, 0, 222)</td>\n",
       "    </tr>\n",
       "    <tr>\n",
       "      <th>1</th>\n",
       "      <td>brightBlue</td>\n",
       "      <td>(168, 87, 0)</td>\n",
       "    </tr>\n",
       "    <tr>\n",
       "      <th>2</th>\n",
       "      <td>darkGreen</td>\n",
       "      <td>(40, 123, 0)</td>\n",
       "    </tr>\n",
       "    <tr>\n",
       "      <th>3</th>\n",
       "      <td>mediumBlue</td>\n",
       "      <td>(198, 140, 71)</td>\n",
       "    </tr>\n",
       "  </tbody>\n",
       "</table>\n",
       "</div>"
      ],
      "text/plain": [
       "       colour             BGR\n",
       "0   brightRed    (13, 0, 222)\n",
       "1  brightBlue    (168, 87, 0)\n",
       "2   darkGreen    (40, 123, 0)\n",
       "3  mediumBlue  (198, 140, 71)"
      ]
     },
     "execution_count": 52,
     "metadata": {},
     "output_type": "execute_result"
    }
   ],
   "source": [
    "df"
   ]
  },
  {
   "cell_type": "code",
   "execution_count": null,
   "id": "f53a5cde",
   "metadata": {},
   "outputs": [],
   "source": [
    "legoColourNames = ['brightRed', 'brightBlue']"
   ]
  },
  {
   "cell_type": "code",
   "execution_count": 15,
   "id": "d2763390",
   "metadata": {},
   "outputs": [
    {
     "data": {
      "text/plain": [
       "{'brightRed': (222, 0, 13),\n",
       " 'brightBlue': (0, 87, 168),\n",
       " 'darkGreen': (0, 123, 40),\n",
       " 'mediumBlue': (71, 140, 198)}"
      ]
     },
     "execution_count": 15,
     "metadata": {},
     "output_type": "execute_result"
    }
   ],
   "source": [
    "legoColoursRGB"
   ]
  },
  {
   "cell_type": "code",
   "execution_count": 16,
   "id": "f953b68e",
   "metadata": {},
   "outputs": [
    {
     "data": {
      "text/plain": [
       "{'brightRed': (13, 0, 222),\n",
       " 'brightBlue': (168, 87, 0),\n",
       " 'darkGreen': (40, 123, 0),\n",
       " 'mediumBlue': (198, 140, 71)}"
      ]
     },
     "execution_count": 16,
     "metadata": {},
     "output_type": "execute_result"
    }
   ],
   "source": [
    "legoColoursBGR"
   ]
  },
  {
   "cell_type": "code",
   "execution_count": 32,
   "id": "059d4e69",
   "metadata": {},
   "outputs": [],
   "source": [
    "bgrArray = np.array([np.array(v) for v in legoColoursBGR.values()])"
   ]
  },
  {
   "cell_type": "code",
   "execution_count": 33,
   "id": "24a8186b",
   "metadata": {},
   "outputs": [
    {
     "data": {
      "text/plain": [
       "array([[ 13,   0, 222],\n",
       "       [168,  87,   0],\n",
       "       [ 40, 123,   0],\n",
       "       [198, 140,  71]])"
      ]
     },
     "execution_count": 33,
     "metadata": {},
     "output_type": "execute_result"
    }
   ],
   "source": [
    "bgrArray"
   ]
  },
  {
   "cell_type": "code",
   "execution_count": 34,
   "id": "751af21d",
   "metadata": {},
   "outputs": [
    {
     "data": {
      "text/plain": [
       "(4, 3)"
      ]
     },
     "execution_count": 34,
     "metadata": {},
     "output_type": "execute_result"
    }
   ],
   "source": [
    "bgrArray.shape"
   ]
  },
  {
   "cell_type": "code",
   "execution_count": 19,
   "id": "dc02428d",
   "metadata": {},
   "outputs": [
    {
     "data": {
      "text/plain": [
       "array([ 13,   0, 222])"
      ]
     },
     "execution_count": 19,
     "metadata": {},
     "output_type": "execute_result"
    }
   ],
   "source": [
    "inputVector = np.array([13, 0, 222])\n",
    "inputVector"
   ]
  },
  {
   "cell_type": "code",
   "execution_count": 39,
   "id": "a0fd905f",
   "metadata": {},
   "outputs": [
    {
     "data": {
      "text/plain": [
       "0.0"
      ]
     },
     "execution_count": 39,
     "metadata": {},
     "output_type": "execute_result"
    }
   ],
   "source": [
    "euclidean(inputVector, inputVector)"
   ]
  },
  {
   "cell_type": "code",
   "execution_count": 54,
   "id": "cd4119be",
   "metadata": {},
   "outputs": [
    {
     "data": {
      "text/plain": [
       "array([[  0.        ],\n",
       "       [284.3905765 ],\n",
       "       [255.22930866],\n",
       "       [276.81401699]])"
      ]
     },
     "execution_count": 54,
     "metadata": {},
     "output_type": "execute_result"
    }
   ],
   "source": [
    "dist"
   ]
  },
  {
   "cell_type": "code",
   "execution_count": 58,
   "id": "03c1eaf8",
   "metadata": {},
   "outputs": [
    {
     "data": {
      "text/plain": [
       "'brightRed'"
      ]
     },
     "execution_count": 58,
     "metadata": {},
     "output_type": "execute_result"
    }
   ],
   "source": [
    "dist = euclidean_distances(bgrArray, np.array([inputVector]))\n",
    "idx = dist.argmin()\n",
    "df.iloc[0]['colour']"
   ]
  },
  {
   "cell_type": "markdown",
   "id": "5ce7fa49",
   "metadata": {},
   "source": [
    "# Using K-Nearest Neighbors"
   ]
  },
  {
   "cell_type": "code",
   "execution_count": 12,
   "id": "ec2a55d0",
   "metadata": {},
   "outputs": [
    {
     "data": {
      "text/html": [
       "<div>\n",
       "<style scoped>\n",
       "    .dataframe tbody tr th:only-of-type {\n",
       "        vertical-align: middle;\n",
       "    }\n",
       "\n",
       "    .dataframe tbody tr th {\n",
       "        vertical-align: top;\n",
       "    }\n",
       "\n",
       "    .dataframe thead th {\n",
       "        text-align: right;\n",
       "    }\n",
       "</style>\n",
       "<table border=\"1\" class=\"dataframe\">\n",
       "  <thead>\n",
       "    <tr style=\"text-align: right;\">\n",
       "      <th></th>\n",
       "      <th>r</th>\n",
       "      <th>g</th>\n",
       "      <th>b</th>\n",
       "    </tr>\n",
       "  </thead>\n",
       "  <tbody>\n",
       "    <tr>\n",
       "      <th>0</th>\n",
       "      <td>185</td>\n",
       "      <td>146</td>\n",
       "      <td>55</td>\n",
       "    </tr>\n",
       "    <tr>\n",
       "      <th>1</th>\n",
       "      <td>189</td>\n",
       "      <td>151</td>\n",
       "      <td>69</td>\n",
       "    </tr>\n",
       "    <tr>\n",
       "      <th>2</th>\n",
       "      <td>141</td>\n",
       "      <td>179</td>\n",
       "      <td>209</td>\n",
       "    </tr>\n",
       "    <tr>\n",
       "      <th>3</th>\n",
       "      <td>18</td>\n",
       "      <td>90</td>\n",
       "      <td>146</td>\n",
       "    </tr>\n",
       "    <tr>\n",
       "      <th>4</th>\n",
       "      <td>73</td>\n",
       "      <td>121</td>\n",
       "      <td>169</td>\n",
       "    </tr>\n",
       "    <tr>\n",
       "      <th>5</th>\n",
       "      <td>168</td>\n",
       "      <td>106</td>\n",
       "      <td>106</td>\n",
       "    </tr>\n",
       "    <tr>\n",
       "      <th>6</th>\n",
       "      <td>144</td>\n",
       "      <td>29</td>\n",
       "      <td>10</td>\n",
       "    </tr>\n",
       "    <tr>\n",
       "      <th>7</th>\n",
       "      <td>147</td>\n",
       "      <td>30</td>\n",
       "      <td>13</td>\n",
       "    </tr>\n",
       "  </tbody>\n",
       "</table>\n",
       "</div>"
      ],
      "text/plain": [
       "     r    g    b\n",
       "0  185  146   55\n",
       "1  189  151   69\n",
       "2  141  179  209\n",
       "3   18   90  146\n",
       "4   73  121  169\n",
       "5  168  106  106\n",
       "6  144   29   10\n",
       "7  147   30   13"
      ]
     },
     "execution_count": 12,
     "metadata": {},
     "output_type": "execute_result"
    }
   ],
   "source": [
    "df2 = pd.read_csv('./Colour Data/colourdata.csv')\n",
    "df2[['r','g','b']]\n",
    "# df2.shape"
   ]
  },
  {
   "cell_type": "code",
   "execution_count": 47,
   "id": "6033c068",
   "metadata": {},
   "outputs": [
    {
     "data": {
      "text/plain": [
       "KNeighborsClassifier()"
      ]
     },
     "execution_count": 47,
     "metadata": {},
     "output_type": "execute_result"
    }
   ],
   "source": [
    "KNN = KNeighborsClassifier()\n",
    "scaler = StandardScaler()\n",
    "# X = scaler.fit_transform(df2[['r','g','b']])\n",
    "X = df2[['r','g','b']]\n",
    "y = df2[['Label']].values.ravel()\n",
    "KNN.fit(X,y)"
   ]
  },
  {
   "cell_type": "code",
   "execution_count": 56,
   "id": "5884c5fe",
   "metadata": {},
   "outputs": [
    {
     "data": {
      "text/plain": [
       "'brightRed'"
      ]
     },
     "execution_count": 56,
     "metadata": {},
     "output_type": "execute_result"
    }
   ],
   "source": [
    "bgr = (0, 87, 168)\n",
    "bgr2 = (185,146,55)\n",
    "target = np.array([bgr2])\n",
    "KNN.predict(target)[0]"
   ]
  },
  {
   "cell_type": "code",
   "execution_count": 35,
   "id": "df341c26",
   "metadata": {},
   "outputs": [
    {
     "data": {
      "text/plain": [
       "array([[ 0.94180369,  0.76844032, -0.61623812],\n",
       "       [ 1.01442469,  0.86571124, -0.41143494],\n",
       "       [ 0.14297261,  1.41042843,  1.63659678],\n",
       "       [-2.09012336, -0.32099406,  0.7149825 ],\n",
       "       [-1.09158451,  0.28208569,  1.05144486],\n",
       "       [ 0.63316441, -0.00972709,  0.12983058],\n",
       "       [ 0.19743836, -1.50769936, -1.27453403],\n",
       "       [ 0.25190412, -1.48824517, -1.23064764]])"
      ]
     },
     "execution_count": 35,
     "metadata": {},
     "output_type": "execute_result"
    }
   ],
   "source": [
    "X"
   ]
  },
  {
   "cell_type": "code",
   "execution_count": 42,
   "id": "79910910",
   "metadata": {},
   "outputs": [
    {
     "data": {
      "text/plain": [
       "array([[185, 146,  55],\n",
       "       [189, 151,  69],\n",
       "       [141, 179, 209],\n",
       "       [ 18,  90, 146],\n",
       "       [ 73, 121, 169],\n",
       "       [168, 106, 106],\n",
       "       [144,  29,  10],\n",
       "       [147,  30,  13]], dtype=int64)"
      ]
     },
     "execution_count": 42,
     "metadata": {},
     "output_type": "execute_result"
    }
   ],
   "source": [
    "df2[['r','g','b']].to_numpy()"
   ]
  },
  {
   "cell_type": "code",
   "execution_count": 43,
   "id": "1f992a2a",
   "metadata": {},
   "outputs": [
    {
     "data": {
      "text/plain": [
       "array([[185, 146,  55]])"
      ]
     },
     "execution_count": 43,
     "metadata": {},
     "output_type": "execute_result"
    }
   ],
   "source": [
    "np.array([bgr2])"
   ]
  },
  {
   "cell_type": "code",
   "execution_count": 61,
   "id": "b51ef2cd",
   "metadata": {},
   "outputs": [
    {
     "data": {
      "text/plain": [
       "array([[ 55, 146, 185]])"
      ]
     },
     "execution_count": 61,
     "metadata": {},
     "output_type": "execute_result"
    }
   ],
   "source": [
    "target = np.array([bgr2[::-1]])\n",
    "target"
   ]
  },
  {
   "cell_type": "code",
   "execution_count": null,
   "id": "304cad0c",
   "metadata": {},
   "outputs": [],
   "source": []
  }
 ],
 "metadata": {
  "kernelspec": {
   "display_name": "Python 3",
   "language": "python",
   "name": "python3"
  },
  "language_info": {
   "codemirror_mode": {
    "name": "ipython",
    "version": 3
   },
   "file_extension": ".py",
   "mimetype": "text/x-python",
   "name": "python",
   "nbconvert_exporter": "python",
   "pygments_lexer": "ipython3",
   "version": "3.8.8"
  }
 },
 "nbformat": 4,
 "nbformat_minor": 5
}
