{
 "cells": [
  {
   "cell_type": "code",
   "execution_count": 2,
   "id": "8cf9aefb",
   "metadata": {},
   "outputs": [],
   "source": [
    "import numpy as np\n",
    "import pandas as pd\n",
    "import cv2\n",
    "import matplotlib.pyplot as plt\n",
    "from sklearn.neighbors import KNeighborsClassifier\n",
    "from sklearn.naive_bayes import GaussianNB\n",
    "from sklearn.preprocessing import StandardScaler\n",
    "%matplotlib inline"
   ]
  },
  {
   "cell_type": "code",
   "execution_count": 4,
   "id": "53ac2b73",
   "metadata": {},
   "outputs": [],
   "source": [
    "df = pd.read_csv('./../Colour Data/colourdatasvm.csv')\n",
    "features = ['r', 'g', 'b']\n",
    "X = df[features]\n",
    "Y = df[['Label']].to_numpy().ravel()\n",
    "\n"
   ]
  },
  {
   "cell_type": "code",
   "execution_count": 6,
   "id": "255b9f6d",
   "metadata": {},
   "outputs": [],
   "source": [
    "rmean= X['r'].values.mean()\n",
    "gmean = X['g'].values.mean()\n",
    "bmean = X['b'].values.mean()\n",
    "\n",
    "xnorm = X.copy()\n",
    "xnorm['r'] = xnorm['r'] / rmean\n",
    "xnorm['g'] = xnorm['g'] / gmean\n",
    "xnorm['b'] = xnorm['b'] / bmean"
   ]
  },
  {
   "cell_type": "code",
   "execution_count": 5,
   "id": "7f75aee0",
   "metadata": {},
   "outputs": [],
   "source": [
    "hsvRange = np.array([[0, 98, 100], [109, 255, 255]])"
   ]
  },
  {
   "cell_type": "code",
   "execution_count": 5,
   "id": "2fbf7357",
   "metadata": {
    "scrolled": true
   },
   "outputs": [
    {
     "data": {
      "text/html": [
       "<div>\n",
       "<style scoped>\n",
       "    .dataframe tbody tr th:only-of-type {\n",
       "        vertical-align: middle;\n",
       "    }\n",
       "\n",
       "    .dataframe tbody tr th {\n",
       "        vertical-align: top;\n",
       "    }\n",
       "\n",
       "    .dataframe thead th {\n",
       "        text-align: right;\n",
       "    }\n",
       "</style>\n",
       "<table border=\"1\" class=\"dataframe\">\n",
       "  <thead>\n",
       "    <tr style=\"text-align: right;\">\n",
       "      <th></th>\n",
       "      <th>r</th>\n",
       "      <th>g</th>\n",
       "      <th>b</th>\n",
       "    </tr>\n",
       "  </thead>\n",
       "  <tbody>\n",
       "    <tr>\n",
       "      <th>0</th>\n",
       "      <td>205</td>\n",
       "      <td>151</td>\n",
       "      <td>0</td>\n",
       "    </tr>\n",
       "    <tr>\n",
       "      <th>1</th>\n",
       "      <td>200</td>\n",
       "      <td>143</td>\n",
       "      <td>1</td>\n",
       "    </tr>\n",
       "    <tr>\n",
       "      <th>2</th>\n",
       "      <td>200</td>\n",
       "      <td>145</td>\n",
       "      <td>3</td>\n",
       "    </tr>\n",
       "    <tr>\n",
       "      <th>3</th>\n",
       "      <td>176</td>\n",
       "      <td>100</td>\n",
       "      <td>5</td>\n",
       "    </tr>\n",
       "    <tr>\n",
       "      <th>4</th>\n",
       "      <td>190</td>\n",
       "      <td>135</td>\n",
       "      <td>2</td>\n",
       "    </tr>\n",
       "    <tr>\n",
       "      <th>...</th>\n",
       "      <td>...</td>\n",
       "      <td>...</td>\n",
       "      <td>...</td>\n",
       "    </tr>\n",
       "    <tr>\n",
       "      <th>708</th>\n",
       "      <td>3</td>\n",
       "      <td>54</td>\n",
       "      <td>144</td>\n",
       "    </tr>\n",
       "    <tr>\n",
       "      <th>709</th>\n",
       "      <td>0</td>\n",
       "      <td>23</td>\n",
       "      <td>72</td>\n",
       "    </tr>\n",
       "    <tr>\n",
       "      <th>710</th>\n",
       "      <td>6</td>\n",
       "      <td>42</td>\n",
       "      <td>99</td>\n",
       "    </tr>\n",
       "    <tr>\n",
       "      <th>711</th>\n",
       "      <td>0</td>\n",
       "      <td>63</td>\n",
       "      <td>151</td>\n",
       "    </tr>\n",
       "    <tr>\n",
       "      <th>712</th>\n",
       "      <td>0</td>\n",
       "      <td>76</td>\n",
       "      <td>170</td>\n",
       "    </tr>\n",
       "  </tbody>\n",
       "</table>\n",
       "<p>713 rows × 3 columns</p>\n",
       "</div>"
      ],
      "text/plain": [
       "       r    g    b\n",
       "0    205  151    0\n",
       "1    200  143    1\n",
       "2    200  145    3\n",
       "3    176  100    5\n",
       "4    190  135    2\n",
       "..   ...  ...  ...\n",
       "708    3   54  144\n",
       "709    0   23   72\n",
       "710    6   42   99\n",
       "711    0   63  151\n",
       "712    0   76  170\n",
       "\n",
       "[713 rows x 3 columns]"
      ]
     },
     "execution_count": 5,
     "metadata": {},
     "output_type": "execute_result"
    }
   ],
   "source": [
    "X"
   ]
  },
  {
   "cell_type": "code",
   "execution_count": 7,
   "id": "073a6364",
   "metadata": {},
   "outputs": [],
   "source": [
    "ref = cv2.imread('./Images/staticref.jpg')"
   ]
  },
  {
   "cell_type": "code",
   "execution_count": 8,
   "id": "bbe51fef",
   "metadata": {},
   "outputs": [],
   "source": [
    "def getContours(img):\n",
    "    contours, hierarchy = cv2.findContours(img, cv2.RETR_EXTERNAL, cv2.CHAIN_APPROX_NONE)\n",
    "    # cv2.drawContours(imgContours, contours, -1, (150, 0, 150), 3)\n",
    "    sorted_contours= sorted(contours, key=cv2.contourArea, reverse= True)\n",
    "    return sorted_contours"
   ]
  },
  {
   "cell_type": "markdown",
   "id": "d6b5174a",
   "metadata": {},
   "source": [
    "# GaussianNB"
   ]
  },
  {
   "cell_type": "code",
   "execution_count": 5,
   "id": "0da5489a",
   "metadata": {},
   "outputs": [
    {
     "data": {
      "text/plain": [
       "GaussianNB()"
      ]
     },
     "execution_count": 5,
     "metadata": {},
     "output_type": "execute_result"
    }
   ],
   "source": [
    "nb = GaussianNB()\n",
    "nb.fit(X,Y)"
   ]
  },
  {
   "cell_type": "code",
   "execution_count": 18,
   "id": "2b57ee44",
   "metadata": {},
   "outputs": [
    {
     "data": {
      "text/plain": [
       "'brightYellow'"
      ]
     },
     "execution_count": 18,
     "metadata": {},
     "output_type": "execute_result"
    }
   ],
   "source": [
    "nb.predict([[199,157,41]])[0]"
   ]
  },
  {
   "cell_type": "code",
   "execution_count": 6,
   "id": "8143762a",
   "metadata": {},
   "outputs": [],
   "source": [
    "for pic in range(1,5):\n",
    "    path = './Images/Test Data/test{i}.jpg'.format(i=pic)\n",
    "    img = cv2.imread(path)\n",
    "    hsv = cv2.cvtColor(img, cv2.COLOR_BGR2HSV)\n",
    "    diff = cv2.absdiff(img, ref)\n",
    "    th, dst = cv2.threshold(diff, 50, 255, cv2.THRESH_BINARY)\n",
    "    dst = cv2.cvtColor(dst, cv2.COLOR_BGR2GRAY)\n",
    "    con, hie = cv2.findContours(dst, cv2.RETR_EXTERNAL, cv2.CHAIN_APPROX_SIMPLE)\n",
    "    cv2.drawContours(dst, con, -1,(255,255,255),3)\n",
    "    res = cv2.bitwise_and(img, img, mask = dst)\n",
    "    mask = cv2.inRange(hsv, hsvRange[0], hsvRange[1])\n",
    "    out = cv2.bitwise_and(img, img, mask = mask)\n",
    "\n",
    "    imgContours = out.copy()\n",
    "    imgBlur = cv2.GaussianBlur(out, (7,7), 1)\n",
    "    imgGray = cv2.cvtColor(imgBlur, cv2.COLOR_BGR2GRAY)\n",
    "\n",
    "#     threshold1 = 97\n",
    "#     threshold2 = 255\n",
    "    threshold1 = 0\n",
    "    threshold2 = 200\n",
    "\n",
    "    imgCanny = cv2.Canny(imgGray, threshold1, threshold2)\n",
    "    imgDil = cv2.dilate(imgCanny, np.ones((5,5)), iterations = 1)\n",
    "    contours = getContours(imgDil)\n",
    "    mask1 = np.zeros(img.shape, np.uint8)\n",
    "\n",
    "    for c in contours:\n",
    "        if cv2.contourArea(c) > 200:\n",
    "            cv2.drawContours(mask1, c, -1, 255, -1)\n",
    "            M = cv2.moments(c)\n",
    "            cX = int((M[\"m10\"] / M[\"m00\"]))\n",
    "            cY = int((M[\"m01\"] / M[\"m00\"]))\n",
    "            pixel = img[cY, cX, :]\n",
    "\n",
    "            colour = nb.predict([pixel[::-1]])[0]\n",
    "            cv2.rectangle(img, pt1 = (cX - 40, cY-40), pt2 = (cX + 40, cY +40), color = (52, 235, 164), thickness = 1)\n",
    "            cv2.putText(img, colour, (cX, cY), cv2.FONT_HERSHEY_SIMPLEX, 0.5, (52, 235, 164), 2)\n",
    "\n",
    "    cv2.imwrite('./Images/Test Data/GNB/gnb{i}.jpg'.format(i=pic), img)"
   ]
  },
  {
   "cell_type": "markdown",
   "id": "565aee9e",
   "metadata": {},
   "source": [
    "# KNN"
   ]
  },
  {
   "cell_type": "code",
   "execution_count": 64,
   "id": "04283ce9",
   "metadata": {},
   "outputs": [
    {
     "data": {
      "text/plain": [
       "KNeighborsClassifier()"
      ]
     },
     "execution_count": 64,
     "metadata": {},
     "output_type": "execute_result"
    }
   ],
   "source": [
    "knn = KNeighborsClassifier(n_neighbors = 5)\n",
    "knn.fit(xnorm,Y)"
   ]
  },
  {
   "cell_type": "code",
   "execution_count": 16,
   "id": "3a880385",
   "metadata": {},
   "outputs": [],
   "source": [
    "for pic in range(1,5):\n",
    "    path = './Images/Test Data/test{i}.jpg'.format(i=pic)\n",
    "    img = cv2.imread(path)\n",
    "    hsv = cv2.cvtColor(img, cv2.COLOR_BGR2HSV)\n",
    "    diff = cv2.absdiff(img, ref)\n",
    "    th, dst = cv2.threshold(diff, 50, 255, cv2.THRESH_BINARY)\n",
    "    dst = cv2.cvtColor(dst, cv2.COLOR_BGR2GRAY)\n",
    "    con, hie = cv2.findContours(dst, cv2.RETR_EXTERNAL, cv2.CHAIN_APPROX_SIMPLE)\n",
    "    cv2.drawContours(dst, con, -1,(255,255,255),3)\n",
    "    res = cv2.bitwise_and(img, img, mask = dst)\n",
    "    mask = cv2.inRange(hsv, hsvRange[0], hsvRange[1])\n",
    "    out = cv2.bitwise_and(img, img, mask = mask)\n",
    "\n",
    "    imgContours = out.copy()\n",
    "    imgBlur = cv2.GaussianBlur(out, (7,7), 1)\n",
    "    imgGray = cv2.cvtColor(imgBlur, cv2.COLOR_BGR2GRAY)\n",
    "\n",
    "    threshold1 = 97\n",
    "    threshold2 = 255\n",
    "#     threshold1 = 0\n",
    "#     threshold2 = 200\n",
    "\n",
    "    imgCanny = cv2.Canny(imgGray, threshold1, threshold2)\n",
    "    imgDil = cv2.dilate(imgCanny, np.ones((5,5)), iterations = 1)\n",
    "    contours = getContours(imgDil)\n",
    "    mask1 = np.zeros(img.shape, np.uint8)\n",
    "\n",
    "    for c in contours:\n",
    "        if cv2.contourArea(c) > 200:\n",
    "            cv2.drawContours(mask1, c, -1, 255, -1)\n",
    "            M = cv2.moments(c)\n",
    "            cX = int((M[\"m10\"] / M[\"m00\"]))\n",
    "            cY = int((M[\"m01\"] / M[\"m00\"]))\n",
    "            pixel = img[cY, cX, :]\n",
    "\n",
    "            colour = knn.predict([pixel[::-1]])[0]\n",
    "            cv2.rectangle(img, pt1 = (cX - 40, cY-40), pt2 = (cX + 40, cY +40), color = (52, 235, 164), thickness = 1)\n",
    "            cv2.putText(img, colour, (cX, cY), cv2.FONT_HERSHEY_SIMPLEX, 0.5, (52, 235, 164), 2)\n",
    "\n",
    "    cv2.imwrite('./Images/Test Data/KNN/knn{i}.jpg'.format(i=pic), img)"
   ]
  },
  {
   "cell_type": "markdown",
   "id": "afefa5cf",
   "metadata": {},
   "source": [
    "# SVM"
   ]
  },
  {
   "cell_type": "code",
   "execution_count": 12,
   "id": "7c5b1b73",
   "metadata": {},
   "outputs": [],
   "source": [
    "from sklearn.svm import SVC\n",
    "from sklearn.svm import LinearSVC"
   ]
  },
  {
   "cell_type": "code",
   "execution_count": 27,
   "id": "d4e253ab",
   "metadata": {},
   "outputs": [
    {
     "data": {
      "text/plain": [
       "LinearSVC()"
      ]
     },
     "execution_count": 27,
     "metadata": {},
     "output_type": "execute_result"
    }
   ],
   "source": [
    "# clf = SVC(kernel = 'poly', degree = 3)\n",
    "clf = LinearSVC()\n",
    "clf.fit(xnorm, Y)"
   ]
  },
  {
   "cell_type": "code",
   "execution_count": 28,
   "id": "0c906931",
   "metadata": {},
   "outputs": [],
   "source": [
    "for pic in range(1,9):\n",
    "    path = './Images/SVM Photos/Test/test{i}.jpg'.format(i=pic)\n",
    "    img = cv2.imread(path)\n",
    "    hsv = cv2.cvtColor(img, cv2.COLOR_BGR2HSV)\n",
    "    diff = cv2.absdiff(img, ref)\n",
    "    th, dst = cv2.threshold(diff, 50, 255, cv2.THRESH_BINARY)\n",
    "    dst = cv2.cvtColor(dst, cv2.COLOR_BGR2GRAY)\n",
    "    con, hie = cv2.findContours(dst, cv2.RETR_EXTERNAL, cv2.CHAIN_APPROX_SIMPLE)\n",
    "    cv2.drawContours(dst, con, -1,(255,255,255),3)\n",
    "    res = cv2.bitwise_and(img, img, mask = dst)\n",
    "    mask = cv2.inRange(hsv, hsvRange[0], hsvRange[1])\n",
    "    out = cv2.bitwise_and(img, img, mask = mask)\n",
    "\n",
    "    imgContours = out.copy()\n",
    "    imgBlur = cv2.GaussianBlur(out, (7,7), 1)\n",
    "    imgGray = cv2.cvtColor(imgBlur, cv2.COLOR_BGR2GRAY)\n",
    "\n",
    "    threshold1 = 97\n",
    "    threshold2 = 255\n",
    "#     threshold1 = 0\n",
    "#     threshold2 = 200\n",
    "\n",
    "    imgCanny = cv2.Canny(imgGray, threshold1, threshold2)\n",
    "    imgDil = cv2.dilate(imgCanny, np.ones((5,5)), iterations = 1)\n",
    "    contours = getContours(imgDil)\n",
    "    mask1 = np.zeros(img.shape, np.uint8)\n",
    "\n",
    "    for c in contours:\n",
    "        if cv2.contourArea(c) > 200:\n",
    "            cv2.drawContours(mask1, c, -1, 255, -1)\n",
    "            M = cv2.moments(c)\n",
    "            cX = int((M[\"m10\"] / M[\"m00\"]))\n",
    "            cY = int((M[\"m01\"] / M[\"m00\"]))\n",
    "            pixel = img[cY, cX, :]\n",
    "            \n",
    "            pixel = pixel[::-1]\n",
    "            pixel[0] = pixel[0] / rmean\n",
    "            pixel[1] = pixel[1] / gmean\n",
    "            pixel[2] = pixel[2] / bmean\n",
    "            pixel = pixel[::-1]\n",
    "            \n",
    "            colour = clf.predict([pixel[::-1]])[0]\n",
    "            cv2.rectangle(img, pt1 = (cX - 40, cY-40), pt2 = (cX + 40, cY +40), color = (52, 235, 164), thickness = 1)\n",
    "            cv2.putText(img, colour, (cX, cY), cv2.FONT_HERSHEY_SIMPLEX, 0.5, (52, 235, 164), 2)\n",
    "\n",
    "    cv2.imwrite('./Images/SVM Photos/Results/res{i}.jpg'.format(i=pic), img)"
   ]
  },
  {
   "cell_type": "code",
   "execution_count": 78,
   "id": "7e5e5fed",
   "metadata": {},
   "outputs": [
    {
     "data": {
      "text/plain": [
       "True"
      ]
     },
     "execution_count": 78,
     "metadata": {},
     "output_type": "execute_result"
    }
   ],
   "source": [
    "# for pic in range(1,5):\n",
    "path = './Images/Test Data/3.jpg'\n",
    "img = cv2.imread(path)\n",
    "hsv = cv2.cvtColor(img, cv2.COLOR_BGR2HSV)\n",
    "diff = cv2.absdiff(img, ref)\n",
    "th, dst = cv2.threshold(diff, 50, 255, cv2.THRESH_BINARY)\n",
    "dst = cv2.cvtColor(dst, cv2.COLOR_BGR2GRAY)\n",
    "con, hie = cv2.findContours(dst, cv2.RETR_EXTERNAL, cv2.CHAIN_APPROX_SIMPLE)\n",
    "cv2.drawContours(dst, con, -1,(255,255,255),3)\n",
    "res = cv2.bitwise_and(img, img, mask = dst)\n",
    "mask = cv2.inRange(hsv, hsvRange[0], hsvRange[1])\n",
    "out = cv2.bitwise_and(img, img, mask = mask)\n",
    "\n",
    "imgContours = out.copy()\n",
    "imgBlur = cv2.GaussianBlur(out, (3,3), 1)\n",
    "imgGray = cv2.cvtColor(imgBlur, cv2.COLOR_BGR2GRAY)\n",
    "\n",
    "threshold1 = 97\n",
    "threshold2 = 255\n",
    "#     threshold1 = 0\n",
    "#     threshold2 = 200\n",
    "\n",
    "imgCanny = cv2.Canny(imgGray, threshold1, threshold2)\n",
    "imgDil = cv2.dilate(imgCanny, np.ones((3,3)), iterations = 1)\n",
    "contours = getContours(imgDil)\n",
    "mask1 = np.zeros(img.shape, np.uint8)\n",
    "\n",
    "for c in contours:\n",
    "    if cv2.contourArea(c) > 200:\n",
    "        cv2.drawContours(mask1, c, -1, 255, -1)\n",
    "        M = cv2.moments(c)\n",
    "        cX = int((M[\"m10\"] / M[\"m00\"]))\n",
    "        cY = int((M[\"m01\"] / M[\"m00\"]))\n",
    "        pixel = img[cY, cX, :]\n",
    "\n",
    "        pixel = pixel[::-1]\n",
    "        pixel[0] = pixel[0] / rmean\n",
    "        pixel[1] = pixel[1] / gmean\n",
    "        pixel[2] = pixel[2] / bmean\n",
    "        pixel = pixel[::-1]\n",
    "\n",
    "        colour = clf.predict([pixel[::-1]])[0]\n",
    "        cv2.rectangle(img, pt1 = (cX - 40, cY-40), pt2 = (cX + 40, cY +40), color = (52, 235, 164), thickness = 1)\n",
    "        cv2.putText(img, colour, (cX, cY), cv2.FONT_HERSHEY_SIMPLEX, 0.5, (52, 235, 164), 2)\n",
    "\n",
    "cv2.imwrite('./Images/SVM Photos/Results/res3.jpg', img)"
   ]
  },
  {
   "cell_type": "markdown",
   "id": "8fbfabe2",
   "metadata": {},
   "source": [
    "# Random Forest"
   ]
  },
  {
   "cell_type": "code",
   "execution_count": 1,
   "id": "3be84c07",
   "metadata": {},
   "outputs": [],
   "source": [
    "from sklearn.ensemble import RandomForestClassifier"
   ]
  },
  {
   "cell_type": "code",
   "execution_count": 9,
   "id": "4a515d53",
   "metadata": {},
   "outputs": [
    {
     "data": {
      "text/plain": [
       "RandomForestClassifier()"
      ]
     },
     "execution_count": 9,
     "metadata": {},
     "output_type": "execute_result"
    }
   ],
   "source": [
    "rf = RandomForestClassifier()\n",
    "rf.fit(xnorm, Y)"
   ]
  },
  {
   "cell_type": "code",
   "execution_count": null,
   "id": "88098280",
   "metadata": {},
   "outputs": [],
   "source": []
  }
 ],
 "metadata": {
  "kernelspec": {
   "display_name": "Python 3",
   "language": "python",
   "name": "python3"
  },
  "language_info": {
   "codemirror_mode": {
    "name": "ipython",
    "version": 3
   },
   "file_extension": ".py",
   "mimetype": "text/x-python",
   "name": "python",
   "nbconvert_exporter": "python",
   "pygments_lexer": "ipython3",
   "version": "3.8.8"
  }
 },
 "nbformat": 4,
 "nbformat_minor": 5
}
