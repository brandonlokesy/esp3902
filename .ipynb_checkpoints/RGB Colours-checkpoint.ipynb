{
 "cells": [
  {
   "cell_type": "code",
   "execution_count": 2,
   "id": "b535ae11",
   "metadata": {},
   "outputs": [],
   "source": [
    "import matplotlib.pyplot as plt\n",
    "import numpy as np\n",
    "import pandas as pd\n",
    "import cv2\n",
    "import imutils\n",
    "from PIL import ImageColor\n",
    "from scipy.spatial.distance import euclidean\n",
    "# from scipy.spatial.distance import cosine_similarity\n",
    "from sklearn.metrics.pairwise import euclidean_distances\n",
    "# from collections import OrderedDict \n",
    "from sklearn.neighbors import KNeighborsClassifier\n",
    "from sklearn.preprocessing import StandardScaler"
   ]
  },
  {
   "cell_type": "code",
   "execution_count": 51,
   "id": "bc59f0d9",
   "metadata": {},
   "outputs": [],
   "source": [
    "##Lego colours\n",
    "##https://brickipedia.fandom.com/wiki/Colour_Palette\n",
    "\n",
    "legoColoursHEX = {\"brightRed\" : '#DE000D',\n",
    "                  \"brightBlue\" : '#0057A8',\n",
    "                  \"darkGreen\" : '#007B28',\n",
    "                 \"mediumBlue\" : \"#478CC6\"}\n",
    "legoColoursRGB = dict((k, ImageColor.getcolor(v, \"RGB\"))for k,v in legoColoursHEX.items())\n",
    "legoColoursBGR = dict((k, ImageColor.getcolor(v, \"RGB\")[::-1])for k,v in legoColoursHEX.items())\n",
    "\n",
    "df = pd.DataFrame([[k,v] for k,v in legoColoursBGR.items()], columns = ['colour','BGR'])"
   ]
  },
  {
   "cell_type": "code",
   "execution_count": 52,
   "id": "5e477c52",
   "metadata": {},
   "outputs": [
    {
     "data": {
      "text/html": [
       "<div>\n",
       "<style scoped>\n",
       "    .dataframe tbody tr th:only-of-type {\n",
       "        vertical-align: middle;\n",
       "    }\n",
       "\n",
       "    .dataframe tbody tr th {\n",
       "        vertical-align: top;\n",
       "    }\n",
       "\n",
       "    .dataframe thead th {\n",
       "        text-align: right;\n",
       "    }\n",
       "</style>\n",
       "<table border=\"1\" class=\"dataframe\">\n",
       "  <thead>\n",
       "    <tr style=\"text-align: right;\">\n",
       "      <th></th>\n",
       "      <th>colour</th>\n",
       "      <th>BGR</th>\n",
       "    </tr>\n",
       "  </thead>\n",
       "  <tbody>\n",
       "    <tr>\n",
       "      <th>0</th>\n",
       "      <td>brightRed</td>\n",
       "      <td>(13, 0, 222)</td>\n",
       "    </tr>\n",
       "    <tr>\n",
       "      <th>1</th>\n",
       "      <td>brightBlue</td>\n",
       "      <td>(168, 87, 0)</td>\n",
       "    </tr>\n",
       "    <tr>\n",
       "      <th>2</th>\n",
       "      <td>darkGreen</td>\n",
       "      <td>(40, 123, 0)</td>\n",
       "    </tr>\n",
       "    <tr>\n",
       "      <th>3</th>\n",
       "      <td>mediumBlue</td>\n",
       "      <td>(198, 140, 71)</td>\n",
       "    </tr>\n",
       "  </tbody>\n",
       "</table>\n",
       "</div>"
      ],
      "text/plain": [
       "       colour             BGR\n",
       "0   brightRed    (13, 0, 222)\n",
       "1  brightBlue    (168, 87, 0)\n",
       "2   darkGreen    (40, 123, 0)\n",
       "3  mediumBlue  (198, 140, 71)"
      ]
     },
     "execution_count": 52,
     "metadata": {},
     "output_type": "execute_result"
    }
   ],
   "source": [
    "df"
   ]
  },
  {
   "cell_type": "code",
   "execution_count": null,
   "id": "f53a5cde",
   "metadata": {},
   "outputs": [],
   "source": [
    "legoColourNames = ['brightRed', 'brightBlue']"
   ]
  },
  {
   "cell_type": "code",
   "execution_count": 15,
   "id": "d2763390",
   "metadata": {},
   "outputs": [
    {
     "data": {
      "text/plain": [
       "{'brightRed': (222, 0, 13),\n",
       " 'brightBlue': (0, 87, 168),\n",
       " 'darkGreen': (0, 123, 40),\n",
       " 'mediumBlue': (71, 140, 198)}"
      ]
     },
     "execution_count": 15,
     "metadata": {},
     "output_type": "execute_result"
    }
   ],
   "source": [
    "legoColoursRGB"
   ]
  },
  {
   "cell_type": "code",
   "execution_count": 16,
   "id": "f953b68e",
   "metadata": {},
   "outputs": [
    {
     "data": {
      "text/plain": [
       "{'brightRed': (13, 0, 222),\n",
       " 'brightBlue': (168, 87, 0),\n",
       " 'darkGreen': (40, 123, 0),\n",
       " 'mediumBlue': (198, 140, 71)}"
      ]
     },
     "execution_count": 16,
     "metadata": {},
     "output_type": "execute_result"
    }
   ],
   "source": [
    "legoColoursBGR"
   ]
  },
  {
   "cell_type": "code",
   "execution_count": 32,
   "id": "059d4e69",
   "metadata": {},
   "outputs": [],
   "source": [
    "bgrArray = np.array([np.array(v) for v in legoColoursBGR.values()])"
   ]
  },
  {
   "cell_type": "code",
   "execution_count": 33,
   "id": "24a8186b",
   "metadata": {},
   "outputs": [
    {
     "data": {
      "text/plain": [
       "array([[ 13,   0, 222],\n",
       "       [168,  87,   0],\n",
       "       [ 40, 123,   0],\n",
       "       [198, 140,  71]])"
      ]
     },
     "execution_count": 33,
     "metadata": {},
     "output_type": "execute_result"
    }
   ],
   "source": [
    "bgrArray"
   ]
  },
  {
   "cell_type": "code",
   "execution_count": 34,
   "id": "751af21d",
   "metadata": {},
   "outputs": [
    {
     "data": {
      "text/plain": [
       "(4, 3)"
      ]
     },
     "execution_count": 34,
     "metadata": {},
     "output_type": "execute_result"
    }
   ],
   "source": [
    "bgrArray.shape"
   ]
  },
  {
   "cell_type": "code",
   "execution_count": 19,
   "id": "dc02428d",
   "metadata": {},
   "outputs": [
    {
     "data": {
      "text/plain": [
       "array([ 13,   0, 222])"
      ]
     },
     "execution_count": 19,
     "metadata": {},
     "output_type": "execute_result"
    }
   ],
   "source": [
    "inputVector = np.array([13, 0, 222])\n",
    "inputVector"
   ]
  },
  {
   "cell_type": "code",
   "execution_count": 39,
   "id": "a0fd905f",
   "metadata": {},
   "outputs": [
    {
     "data": {
      "text/plain": [
       "0.0"
      ]
     },
     "execution_count": 39,
     "metadata": {},
     "output_type": "execute_result"
    }
   ],
   "source": [
    "euclidean(inputVector, inputVector)"
   ]
  },
  {
   "cell_type": "code",
   "execution_count": 54,
   "id": "cd4119be",
   "metadata": {},
   "outputs": [
    {
     "data": {
      "text/plain": [
       "array([[  0.        ],\n",
       "       [284.3905765 ],\n",
       "       [255.22930866],\n",
       "       [276.81401699]])"
      ]
     },
     "execution_count": 54,
     "metadata": {},
     "output_type": "execute_result"
    }
   ],
   "source": [
    "dist"
   ]
  },
  {
   "cell_type": "code",
   "execution_count": 58,
   "id": "03c1eaf8",
   "metadata": {},
   "outputs": [
    {
     "data": {
      "text/plain": [
       "'brightRed'"
      ]
     },
     "execution_count": 58,
     "metadata": {},
     "output_type": "execute_result"
    }
   ],
   "source": [
    "dist = euclidean_distances(bgrArray, np.array([inputVector]))\n",
    "idx = dist.argmin()\n",
    "df.iloc[0]['colour']"
   ]
  },
  {
   "cell_type": "markdown",
   "id": "f39007d3",
   "metadata": {},
   "source": [
    "# Using K-Nearest Neighbors"
   ]
  },
  {
   "cell_type": "code",
   "execution_count": 1,
   "id": "76bdb811",
   "metadata": {},
   "outputs": [
    {
     "ename": "NameError",
     "evalue": "name 'pd' is not defined",
     "output_type": "error",
     "traceback": [
      "\u001b[1;31m---------------------------------------------------------------------------\u001b[0m",
      "\u001b[1;31mNameError\u001b[0m                                 Traceback (most recent call last)",
      "\u001b[1;32m<ipython-input-1-8a1b0f058389>\u001b[0m in \u001b[0;36m<module>\u001b[1;34m\u001b[0m\n\u001b[1;32m----> 1\u001b[1;33m \u001b[0mdf2\u001b[0m \u001b[1;33m=\u001b[0m \u001b[0mpd\u001b[0m\u001b[1;33m.\u001b[0m\u001b[0mread_csv\u001b[0m\u001b[1;33m(\u001b[0m\u001b[1;34m'./Color Data/colordata.csv'\u001b[0m\u001b[1;33m)\u001b[0m\u001b[1;33m\u001b[0m\u001b[1;33m\u001b[0m\u001b[0m\n\u001b[0m\u001b[0;32m      2\u001b[0m \u001b[0mdf2\u001b[0m\u001b[1;33m.\u001b[0m\u001b[0mread\u001b[0m\u001b[1;33m(\u001b[0m\u001b[1;33m)\u001b[0m\u001b[1;33m\u001b[0m\u001b[1;33m\u001b[0m\u001b[0m\n",
      "\u001b[1;31mNameError\u001b[0m: name 'pd' is not defined"
     ]
    }
   ],
   "source": [
    "df2 = pd.read_csv('./Color Data/colordata.csv')\n",
    "df2.read()"
   ]
  },
  {
   "cell_type": "code",
   "execution_count": null,
   "id": "578e945b",
   "metadata": {},
   "outputs": [],
   "source": []
  }
 ],
 "metadata": {
  "kernelspec": {
   "display_name": "Python 3",
   "language": "python",
   "name": "python3"
  },
  "language_info": {
   "codemirror_mode": {
    "name": "ipython",
    "version": 3
   },
   "file_extension": ".py",
   "mimetype": "text/x-python",
   "name": "python",
   "nbconvert_exporter": "python",
   "pygments_lexer": "ipython3",
   "version": "3.8.8"
  }
 },
 "nbformat": 4,
 "nbformat_minor": 5
}
